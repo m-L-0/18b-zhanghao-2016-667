{
 "cells": [
  {
   "cell_type": "code",
   "execution_count": 1,
   "metadata": {},
   "outputs": [],
   "source": [
    "#!/usr/bin/python\n",
    "# -*- coding: UTF-8 -*- \n",
    "# 张浩-2016011667-ClassificationSchoolwork\n",
    "import numpy as np\n",
    "import scipy.io as sio\n",
    "import pandas as pd\n",
    "from sklearn.model_selection import train_test_split\n",
    "from sklearn.svm import SVC\n",
    "from sklearn.decomposition import PCA"
   ]
  },
  {
   "cell_type": "code",
   "execution_count": 2,
   "metadata": {},
   "outputs": [
    {
     "name": "stdout",
     "output_type": "stream",
     "text": [
      "(6924, 200)\n",
      "[[3688 4381 4594 ... 1064 1034 1010]\n",
      " [2579 4137 4412 ... 1051 1043 1005]\n",
      " [2581 4264 4328 ... 1054 1022 1009]\n",
      " ...\n",
      " [2725 3982 4099 ... 1007 1004 1008]\n",
      " [3320 3862 4015 ... 1007 1004 1000]\n",
      " [3154 3986 4099 ... 1011  996 1003]]\n"
     ]
    }
   ],
   "source": [
    "# 导入数据库\n",
    "input_mat2 = sio.loadmat('data2_train.mat')['data2_train']\n",
    "input_mat3 = sio.loadmat('data3_train.mat')['data3_train']\n",
    "input_mat5 = sio.loadmat('data5_train.mat')['data5_train']\n",
    "input_mat6 = sio.loadmat('data6_train.mat')['data6_train']\n",
    "input_mat8 = sio.loadmat('data8_train.mat')['data8_train']\n",
    "input_mat10 = sio.loadmat('data10_train.mat')['data10_train']\n",
    "input_mat11 = sio.loadmat('data11_train.mat')['data11_train']\n",
    "input_mat12 = sio.loadmat('data12_train.mat')['data12_train']\n",
    "input_mat14 = sio.loadmat('data14_train.mat')['data14_train']\n",
    "\n",
    "#合并样本集\n",
    "merge = np.concatenate([input_mat2,input_mat3,input_mat5,input_mat6,input_mat8,input_mat10,input_mat11,input_mat12,input_mat14],axis = 0)\n",
    "print(merge.shape) # (6924,200)\n",
    "data = merge.reshape((-1,200))\n",
    "print(data)"
   ]
  },
  {
   "cell_type": "code",
   "execution_count": 3,
   "metadata": {},
   "outputs": [
    {
     "name": "stdout",
     "output_type": "stream",
     "text": [
      "[[ 2]\n",
      " [ 2]\n",
      " [ 2]\n",
      " ...\n",
      " [14]\n",
      " [14]\n",
      " [14]]\n",
      "(6924, 1)\n"
     ]
    }
   ],
   "source": [
    "#合并标签\n",
    "label = np.zeros(shape=(merge.shape[0],1))\n",
    "label = np.array(label,dtype=np.int32)\n",
    "\n",
    "y2 = input_mat2.shape[0]\n",
    "for i in range(y2):\n",
    "    label[i]=2\n",
    "y3 = input_mat3.shape[0] + y2\n",
    "for i in range(y2,y3):\n",
    "    label[i]=3\n",
    "y5 = input_mat5.shape[0] + y3\n",
    "for i in range(y3,y5):\n",
    "    label[i]=5\n",
    "y6 = input_mat6.shape[0] + y5\n",
    "for i in range(y5,y6):\n",
    "    label[i]=6\n",
    "y8 = input_mat8.shape[0] + y6\n",
    "for i in range(y6,y8):\n",
    "    label[i]=8\n",
    "y10 = input_mat10.shape[0] + y8\n",
    "for i in range(y8,y10):\n",
    "    label[i]=10\n",
    "y11 = input_mat11.shape[0] + y10\n",
    "for i in range(y10,y11):\n",
    "    label[i]=11\n",
    "y12 = input_mat12.shape[0] + y11\n",
    "for i in range(y11,y12):\n",
    "    label[i]=12\n",
    "y14 = input_mat14.shape[0] + y12\n",
    "for i in range(y12,y14):\n",
    "    label[i]=14\n",
    "\n",
    "print(label)\n",
    "print(label.shape)"
   ]
  },
  {
   "cell_type": "code",
   "execution_count": 4,
   "metadata": {},
   "outputs": [],
   "source": [
    "#划分训练集和测试集\n",
    "x_train, x_test, y_train, y_test = train_test_split(data, label,test_size=0.2,random_state = 1)"
   ]
  },
  {
   "cell_type": "code",
   "execution_count": 5,
   "metadata": {},
   "outputs": [
    {
     "name": "stdout",
     "output_type": "stream",
     "text": [
      "(180,)\n"
     ]
    }
   ],
   "source": [
    "# 降维\n",
    "pca = PCA(n_components='mle')\n",
    "pca.fit_transform(x_train)\n",
    "pca.transform(x_test)\n",
    "\n",
    "print(pca.explained_variance_ratio_.shape) #180"
   ]
  },
  {
   "cell_type": "code",
   "execution_count": 6,
   "metadata": {},
   "outputs": [
    {
     "name": "stdout",
     "output_type": "stream",
     "text": [
      "0.9270758122743682\n",
      "0.932129963898917\n",
      "0.9379061371841155\n",
      "0.12707581227436823\n",
      "0.12707581227436823\n"
     ]
    }
   ],
   "source": [
    "# 构建模型\n",
    "y = y_train.ravel()\n",
    "y_train = np.array(y).astype(int)\n",
    "#调参\n",
    "a = [3,4,5,6,7]\n",
    "for i in a:\n",
    "    svc = SVC(kernel='poly', gamma='auto', degree=i)\n",
    "    svc.fit(x_train,y_train)\n",
    "    print(svc.score(x_test,y_test))"
   ]
  },
  {
   "cell_type": "code",
   "execution_count": 7,
   "metadata": {},
   "outputs": [
    {
     "data": {
      "text/plain": [
       "SVC(C=1.0, cache_size=200, class_weight=None, coef0=0.0,\n",
       "  decision_function_shape='ovr', degree=5, gamma='auto', kernel='poly',\n",
       "  max_iter=-1, probability=False, random_state=None, shrinking=True,\n",
       "  tol=0.001, verbose=False)"
      ]
     },
     "execution_count": 7,
     "metadata": {},
     "output_type": "execute_result"
    }
   ],
   "source": [
    "# degree = 5 准确率最大 93.79%\n",
    "clf = SVC(kernel='poly', gamma='auto', degree=5 )\n",
    "clf.fit(x_train,y_train)"
   ]
  },
  {
   "cell_type": "code",
   "execution_count": 8,
   "metadata": {},
   "outputs": [
    {
     "name": "stdout",
     "output_type": "stream",
     "text": [
      "[12  5  3 ... 14 12  6]\n"
     ]
    }
   ],
   "source": [
    "# 导入测试集\n",
    "test = sio.loadmat('data_test_final.mat')['data_test_final']\n",
    "final = clf.predict(test)\n",
    "final = np.array(final)\n",
    "print(final)\n",
    "data_final = pd.DataFrame(final)\n",
    "data_final.to_csv('final.csv')"
   ]
  },
  {
   "cell_type": "code",
   "execution_count": null,
   "metadata": {},
   "outputs": [],
   "source": []
  }
 ],
 "metadata": {
  "kernelspec": {
   "display_name": "Python 3",
   "language": "python",
   "name": "python3"
  },
  "language_info": {
   "codemirror_mode": {
    "name": "ipython",
    "version": 3
   },
   "file_extension": ".py",
   "mimetype": "text/x-python",
   "name": "python",
   "nbconvert_exporter": "python",
   "pygments_lexer": "ipython3",
   "version": "3.6.7"
  }
 },
 "nbformat": 4,
 "nbformat_minor": 2
}
